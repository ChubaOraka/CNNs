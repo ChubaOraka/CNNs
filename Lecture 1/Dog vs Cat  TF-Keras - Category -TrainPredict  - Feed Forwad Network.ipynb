{
 "cells": [
  {
   "cell_type": "code",
   "execution_count": null,
   "metadata": {
    "collapsed": true
   },
   "outputs": [],
   "source": [
    "import tensorflow as tf\n",
    "import numpy as np\n",
    "import scipy\n",
    "import h5py\n",
    "import os\n",
    "import matplotlib.pyplot as plt\n",
    "%matplotlib inline\n",
    "from tensorflow import set_random_seed\n",
    "from tensorflow.python.keras.layers import ELU\n",
    "from tensorflow.python.keras.preprocessing  import  image \n",
    "from tensorflow.python.keras.preprocessing.image import   ImageDataGenerator\n",
    "from tensorflow.python.keras.models import Sequential\n",
    "from tensorflow.python.keras.layers import Activation, Dropout, Flatten, Dense,Conv2D, MaxPooling2D\n",
    "from tensorflow.python.keras.callbacks import TensorBoard,ModelCheckpoint\n",
    "from tensorflow.python.keras.optimizers import Adam\n",
    "from tensorflow.python.keras import backend as K\n",
    "from IPython.display import display\n",
    "\n",
    "from numpy.random import seed\n",
    "tf.set_random_seed(1)\n",
    "seed(1)"
   ]
  },
  {
   "cell_type": "code",
   "execution_count": null,
   "metadata": {
    "collapsed": true
   },
   "outputs": [],
   "source": [
    "# dimensions of our images.\n",
    "WORK_DIRECTORY=\"C:/tmp/dogcat_study/\"\n",
    "os.chdir(WORK_DIRECTORY) \n",
    "train_data_dir      = 'KaggleCatDog/train'\n",
    "validation_data_dir = 'KaggleCatDog/validation'\n",
    "weightsFilePath= \"weights/weightscatsdogs.h5\"\n",
    "modelFilePath= \"model/modelcatsdogs.json\"\n",
    "path = WORK_DIRECTORY+\"UserData/\"\n",
    "outputPathDog=WORK_DIRECTORY+\"output/dog/\"\n",
    "outputPathCat=WORK_DIRECTORY+\"output/cat/\"\n",
    "\n",
    "nb_train_samples = 24158\n",
    "nb_validation_samples = 1052\n",
    "epochs =2\n",
    "batch_size = 24\n",
    "num_classes =2\n",
    "image_width, image_height = 32, 32 \n",
    "input_shape = (image_width, image_height, 3)"
   ]
  },
  {
   "cell_type": "code",
   "execution_count": null,
   "metadata": {},
   "outputs": [],
   "source": [
    "train_datagen = ImageDataGenerator(rescale=1./255)\n",
    "test_datagen = ImageDataGenerator(rescale=1./ 255)\n",
    "\n",
    "train_generator = train_datagen.flow_from_directory(\n",
    "    train_data_dir,\n",
    "    target_size=(image_width, image_height),\n",
    "    batch_size=batch_size,\n",
    "    class_mode='categorical')\n",
    "print(train_generator.classes)\n",
    "validation_generator = test_datagen.flow_from_directory(\n",
    "    validation_data_dir,\n",
    "    target_size=(image_width, image_height),\n",
    "    batch_size=batch_size,\n",
    "     classes=['cat','dog'],\n",
    "    class_mode='categorical')\n",
    "print(validation_generator.class_indices)\n"
   ]
  },
  {
   "cell_type": "code",
   "execution_count": null,
   "metadata": {
    "collapsed": true
   },
   "outputs": [],
   "source": [
    "model = Sequential()\n",
    "model.add(Conv2D(32, (5, 5), input_shape=input_shape))\n",
    "model.add(Activation('relu'))\n",
    "model.add(MaxPooling2D(pool_size=(2, 2)))\n",
    "\n",
    "model.add(Conv2D(32, (5, 5)))\n",
    "model.add(Activation('relu'))\n",
    "model.add(MaxPooling2D(pool_size=(2, 2)))\n",
    "          \n",
    "model.add(Flatten())\n",
    "model.add(Dense(2,   activation='softmax'))\n",
    "\n",
    "model.compile(loss='categorical_crossentropy',\n",
    "              optimizer='adam',\n",
    "              metrics=['accuracy'])"
   ]
  },
  {
   "cell_type": "code",
   "execution_count": null,
   "metadata": {
    "scrolled": false
   },
   "outputs": [],
   "source": [
    "with tf.device('/gpu:0'):\n",
    "    history=model.fit_generator(\n",
    "        train_generator,\n",
    "        steps_per_epoch=nb_train_samples // batch_size,\n",
    "        epochs=epochs,\n",
    "        validation_data=validation_generator,\n",
    "        validation_steps=nb_validation_samples)        \n",
    "\n",
    "model_json = model.to_json()\n",
    "with open(modelFilePath, \"w\") as json_file:\n",
    "    json_file.write(model_json)     "
   ]
  },
  {
   "cell_type": "code",
   "execution_count": null,
   "metadata": {},
   "outputs": [],
   "source": [
    "\n",
    "files = os.listdir(path)\n",
    "\n",
    "for file in files:\n",
    "\n",
    "    t_image= image.load_img(path + file )\n",
    "    print(path + file )\n",
    "    test_image = image.load_img(path + file, target_size=(image_height, image_width))\n",
    "    test_image = image.img_to_array(test_image)\n",
    "    test_image = np.expand_dims(test_image, axis=0)\n",
    "\n",
    "    pred = model.predict(test_image)\n",
    " \n",
    "    print(pred)\n",
    "    if pred[0][0] > pred[0][1] :\n",
    "        plt.title(\"Cat\")\n",
    "    else:\n",
    "        plt.title(\"Dog\")\n",
    "                   \n",
    "    plt.imshow(t_image)\n",
    "    plt.show()      "
   ]
  },
  {
   "cell_type": "code",
   "execution_count": null,
   "metadata": {
    "collapsed": true
   },
   "outputs": [],
   "source": []
  }
 ],
 "metadata": {
  "kernelspec": {
   "display_name": "Python 3",
   "language": "python",
   "name": "python3"
  },
  "language_info": {
   "codemirror_mode": {
    "name": "ipython",
    "version": 3
   },
   "file_extension": ".py",
   "mimetype": "text/x-python",
   "name": "python",
   "nbconvert_exporter": "python",
   "pygments_lexer": "ipython3",
   "version": "3.5.4"
  }
 },
 "nbformat": 4,
 "nbformat_minor": 2
}

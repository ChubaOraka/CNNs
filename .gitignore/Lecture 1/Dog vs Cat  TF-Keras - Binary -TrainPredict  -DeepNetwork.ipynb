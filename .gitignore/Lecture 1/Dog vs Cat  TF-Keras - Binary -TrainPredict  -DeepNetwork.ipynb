{
 "cells": [
  {
   "cell_type": "code",
   "execution_count": null,
   "metadata": {},
   "outputs": [],
   "source": [
    "import tensorflow as tf\n",
    "import numpy as np\n",
    "import scipy\n",
    "import h5py\n",
    "import os\n",
    "import shutil\n",
    "import matplotlib.pyplot as plt\n",
    "%matplotlib inline\n",
    "from tensorflow.python.keras.preprocessing  import  image \n",
    "from tensorflow.python.keras.preprocessing.image import ImageDataGenerator\n",
    "from tensorflow.python.keras.models import Sequential\n",
    "from tensorflow.python.keras.layers import Activation, Dropout, Flatten, Dense,Conv2D, MaxPooling2D,LeakyReLU\n",
    "from tensorflow.python.keras import backend as K\n",
    "from tensorflow.python.keras.callbacks import TensorBoard,ModelCheckpoint\n",
    "from tensorflow.python.keras.layers import BatchNormalization\n",
    "from IPython.display import display\n",
    "from tensorflow.python.keras.layers import ELU\n",
    "from numpy.random import seed\n",
    "from shutil import copyfile\n",
    "from time import time\n",
    "tf.set_random_seed(1)\n",
    "seed(1)"
   ]
  },
  {
   "cell_type": "code",
   "execution_count": null,
   "metadata": {
    "collapsed": true
   },
   "outputs": [],
   "source": [
    "# dimensions of our images.\n",
    "image_width, image_height = 32, 32\n",
    "WORK_DIRECTORY=\"C:/tmp/dogcat_study/\"\n",
    "os.chdir(WORK_DIRECTORY) \n",
    "train_data_dir      = 'KaggleCatDog/train'\n",
    "validation_data_dir = 'KaggleCatDog/validation'\n",
    "weightsPath= \"weights/\"\n",
    "modelPath= \"model/\"\n",
    "weightsFilePath= \"weights/weightscatsdogs.h5\"\n",
    "modelFilePath= \"model/modelcatsdogs.json\"\n",
    "path = WORK_DIRECTORY+\"UserData/\"\n",
    "nb_train_samples = 24158\n",
    "nb_validation_samples = 1052\n",
    "epochs =2\n",
    "batch_size = 25\n",
    "num_classes =2\n",
    "input_shape = (image_width, image_height, 3)"
   ]
  },
  {
   "cell_type": "code",
   "execution_count": null,
   "metadata": {
    "collapsed": true
   },
   "outputs": [],
   "source": [
    "def HouseKeeping(pathName):\n",
    "    pathName = WORK_DIRECTORY+ pathName\n",
    "    if os.path.exists(pathName):\n",
    "        shutil.rmtree(pathName)\n",
    "    if not os.path.exists(pathName):\n",
    "        os.makedirs(pathName)   "
   ]
  },
  {
   "cell_type": "code",
   "execution_count": null,
   "metadata": {},
   "outputs": [],
   "source": [
    "train_datagen = ImageDataGenerator(rescale=1. / 255,\n",
    "                                   horizontal_flip=True,\n",
    "                                   vertical_flip=True,\n",
    "                                   rotation_range=90.,\n",
    "                                   zoom_range=0.3,\n",
    "                                   shear_range=0.3)\n",
    "test_datagen = ImageDataGenerator(rescale=1. / 255)\n",
    "\n",
    "train_generator = train_datagen.flow_from_directory(\n",
    "    train_data_dir,\n",
    "    target_size=(image_width, image_height),\n",
    "    batch_size=batch_size,\n",
    "    class_mode='binary')\n",
    "\n",
    "validation_generator = test_datagen.flow_from_directory(\n",
    "    validation_data_dir,    target_size=(image_width, image_height),\n",
    "    batch_size=batch_size,\n",
    "    class_mode='binary')"
   ]
  },
  {
   "cell_type": "code",
   "execution_count": null,
   "metadata": {},
   "outputs": [],
   "source": [
    "model = Sequential()\n",
    " \n",
    "#conv2d_1  32 filters of shape 3 X 3\n",
    "#Parameters = 896 = ((Filter width * Filter Breadth * Channels) + 1) * Number of Filters\n",
    "#((3 X 3 X 3 )+1) *32 ) = 896\n",
    "model.add(Conv2D(32, (3, 3), input_shape=input_shape))     \n",
    "\n",
    "# Filter Count * 4\n",
    "# 32 * 4 = 128\n",
    "model.add(BatchNormalization()) \n",
    "model.add(Activation('relu'))\n",
    "#max_pooling2d_1\n",
    "model.add(MaxPooling2D(pool_size=(2, 2)))   \n",
    "\n",
    "#conv2d_2  64 filters of shape 3 X 3   \n",
    "# (3 * 3 * 32 + 1) * 64 = 18496\n",
    "model.add(Conv2D(64, (3, 3)))           \n",
    "\n",
    "# Filter Count * 4\n",
    "# 64 * 4 = 256\n",
    "model.add(BatchNormalization())\n",
    "model.add(Activation('relu'))\n",
    "#max_pooling2d_2\n",
    "model.add(MaxPooling2D(pool_size=(2, 2))) \n",
    "\n",
    "model.add(Dropout(0.5))\n",
    "#conv2d_3  128 filters of shape 3 X 3    \n",
    "# ( 3 * 3  * 64 +1)*128  = 73856\n",
    "model.add(Conv2D(128, (3, 3)))        \n",
    "\n",
    "# Filter Count * 4\n",
    "# 128 * 4 = 512\n",
    "model.add(BatchNormalization())\n",
    "model.add(Activation('elu'))\n",
    "#max_pooling2d_3\n",
    "model.add(MaxPooling2D(pool_size=(2, 2)))  \n",
    " \n",
    "\n",
    "\n",
    "model.add(Dropout(0.5))\n",
    "model.add(Flatten())\n",
    "\n",
    "# last Count = 512\n",
    "# (last count + 1) * DenseCount\n",
    "#(512 + 1)* 100 = 51300\n",
    "model.add(Dense(100, activation='elu'))\n",
    " \n",
    "# (100+1)*1 = 101\n",
    "model.add(Dense(1,   activation='sigmoid'))\n",
    "\n",
    "model.compile(loss='binary_crossentropy',\n",
    "              optimizer='rmsprop',\n",
    "              metrics=['accuracy'])\n",
    "tensorboard = TensorBoard(log_dir=\"logs/{}\".format(time()))\n",
    "print(model.summary())\n"
   ]
  },
  {
   "cell_type": "code",
   "execution_count": null,
   "metadata": {
    "collapsed": true
   },
   "outputs": [],
   "source": [
    "HouseKeeping(weightsPath)\n",
    "HouseKeeping(modelPath)\n",
    "model_json = model.to_json()\n",
    "with open(modelFilePath, \"w\") as json_file:\n",
    "    json_file.write(model_json) "
   ]
  },
  {
   "cell_type": "code",
   "execution_count": null,
   "metadata": {},
   "outputs": [],
   "source": [
    "#+\"{epoch:03d}-{val_acc:3f}.hdf5\"\n",
    "checkpointer = ModelCheckpoint(filepath=weightsFilePath,\n",
    "                               verbose=1, \n",
    "                               monitor='val_acc',\n",
    "                               save_best_only=True,\n",
    "                               mode='max')\n",
    "\n",
    "with tf.device('/gpu:0'):\n",
    "    history=model.fit_generator(\n",
    "        train_generator,\n",
    "        verbose=1,\n",
    "        steps_per_epoch=nb_train_samples // batch_size,\n",
    "        epochs=epochs,\n",
    "        validation_data=validation_generator,\n",
    "        validation_steps=nb_validation_samples // batch_size,\n",
    "        callbacks=[checkpointer])"
   ]
  },
  {
   "cell_type": "code",
   "execution_count": null,
   "metadata": {},
   "outputs": [],
   "source": [
    "loss = history.history['loss']\n",
    "val_loss = history.history['val_loss']\n",
    "plt.plot(loss)\n",
    "plt.plot(val_loss)\n",
    "plt.legend(['loss','val_loss'])\n",
    "plt.title(\"Loss\")\n",
    "plt.ylabel(\"Loss\")\n",
    "plt.xlabel(\"Epoch\")\n",
    "plt.show()\n",
    "\n",
    "acc = history.history['acc']\n",
    "val_acc = history.history['val_acc']\n",
    "plt.plot(acc)\n",
    "plt.plot(val_acc)\n",
    "plt.legend(['acc','val_acc'])\n",
    "plt.title(\"Accuracy\")\n",
    "plt.title(\"Loss\")\n",
    "plt.ylabel(\"Loss\")\n",
    "plt.xlabel(\"Epoch\")\n",
    "plt.show()"
   ]
  },
  {
   "cell_type": "code",
   "execution_count": null,
   "metadata": {},
   "outputs": [],
   "source": [
    "files = os.listdir(path)\n",
    "\n",
    "for file in files:\n",
    "   \n",
    "    t_image= image.load_img(path + file )\n",
    "    print(path + file )\n",
    "    test_image = image.load_img(path + file, target_size=(image_height, image_width))\n",
    "    test_image = image.img_to_array(test_image)\n",
    "    test_image = np.expand_dims(test_image, axis=0)\n",
    "\n",
    "    pred = model.predict_on_batch(test_image)\n",
    "    print(pred)\n",
    "    if pred >= 1.0:\n",
    "        print(\"Dog\")\n",
    "    else:\n",
    "        print(\"Cat\")\n",
    "\n",
    "    plt.imshow(t_image)\n",
    "    plt.show()      "
   ]
  },
  {
   "cell_type": "code",
   "execution_count": null,
   "metadata": {
    "collapsed": true
   },
   "outputs": [],
   "source": []
  }
 ],
 "metadata": {
  "kernelspec": {
   "display_name": "Python 3",
   "language": "python",
   "name": "python3"
  },
  "language_info": {
   "codemirror_mode": {
    "name": "ipython",
    "version": 3
   },
   "file_extension": ".py",
   "mimetype": "text/x-python",
   "name": "python",
   "nbconvert_exporter": "python",
   "pygments_lexer": "ipython3",
   "version": "3.5.4"
  }
 },
 "nbformat": 4,
 "nbformat_minor": 2
}

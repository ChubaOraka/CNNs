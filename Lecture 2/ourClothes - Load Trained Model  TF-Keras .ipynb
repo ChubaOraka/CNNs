{
 "cells": [
  {
   "cell_type": "code",
   "execution_count": null,
   "metadata": {},
   "outputs": [],
   "source": [
    "from numpy.random import seed\n",
    "seed(1)\n",
    "import tensorflow as tf\n",
    "tf.set_random_seed(1)\n",
    "\n",
    "\n",
    "import scipy \n",
    "import h5py \n",
    "import os \n",
    "import matplotlib.pyplot as plt \n",
    "%matplotlib inline\n",
    "import shutil\n",
    "import fnmatch\n",
    "from tensorflow.python.keras.preprocessing import image\n",
    "from tensorflow.python.keras.models import Sequential,model_from_json\n",
    "from tensorflow.python.keras import backend as K\n",
    "from shutil import copyfile\n",
    "from sklearn.metrics import confusion_matrix\n",
    "from IPython.display import display\n"
   ]
  },
  {
   "cell_type": "code",
   "execution_count": null,
   "metadata": {
    "collapsed": true
   },
   "outputs": [],
   "source": [
    "#Define Paths\n",
    "STARTDIR='C:\\\\data\\\\ourclothdata\\\\'\n",
    "train_data_dir = STARTDIR+'train'\n",
    "validation_data_dir = STARTDIR+'validation'\n",
    "userCreatedImages_dir = STARTDIR+'UserData\\\\\"\n",
    "model_dir = STARTDIR+'model_ourclothes.json'\n",
    "weights_dir= STARTDIR+'model_ourclothes.h5'\n",
    "\n",
    "image_width, image_height = 60, 60  \n",
    "input_shape = (image_width, image_height, 3) \n",
    "  "
   ]
  },
  {
   "cell_type": "code",
   "execution_count": null,
   "metadata": {
    "collapsed": true,
    "scrolled": false
   },
   "outputs": [],
   "source": [
    "def PredictMode(loaded_model,outputPath,epochFileName):\n",
    "    outputPathDog=outputPath + \"/dog/\"\n",
    "    outputPathCat=outputPath + \"/cat/\"\n",
    "    HouseKeeping(outputPathDog)\n",
    "    HouseKeeping(outputPathCat)\n",
    "    \n",
    "    files = os.listdir(inputPath)\n",
    "    \n",
    "    for file in files:\n",
    "        fullFileName=inputPath + file\n",
    "        t_image= image.load_img(fullFileName )\n",
    "        test_image = image.load_img(fullFileName, target_size=(image_height, image_width))\n",
    "        test_image = image.img_to_array(test_image)\n",
    "        test_image = np.expand_dims(test_image, axis=0)\n",
    "        pred = loaded_model.predict_on_batch(test_image)\n",
    "      \n",
    "        if pred == 1.0:\n",
    "            copyfile(fullFileName, outputPathDog+file)\n",
    "        else:\n",
    "            if pred == 0.0:\n",
    "                copyfile(fullFileName, outputPathCat+file)\n",
    "        \n",
    "    ConfusionMatrix(outputPathDog,outputPathCat,epochFileName)"
   ]
  },
  {
   "cell_type": "code",
   "execution_count": null,
   "metadata": {
    "scrolled": true
   },
   "outputs": [],
   "source": [
    "json_file = open(model_dir, 'r')\n",
    "loaded_model_json = json_file.read()\n",
    "json_file.close()\n",
    "loaded_model = model_from_json(loaded_model_json)\n",
    " \n",
    "loaded_model.load_weights(weights_dir)\n",
    "PredictMode(loaded_model,fileName)\n",
    "files = os.listdir(userCreatedImages_dir)\n",
    "fullFileName=inputPath + file\n",
    "t_image= image.load_img(fullFileName )\n",
    "test_image = image.load_img(fullFileName, target_size=(image_height, image_width))\n",
    "test_image = image.img_to_array(test_image)\n",
    "test_image = np.expand_dims(test_image, axis=0)\n",
    "pred = loaded_model.predict_on_batch(test_image)\n"
   ]
  },
  {
   "cell_type": "code",
   "execution_count": null,
   "metadata": {
    "collapsed": true
   },
   "outputs": [],
   "source": []
  }
 ],
 "metadata": {
  "kernelspec": {
   "display_name": "Python 3",
   "language": "python",
   "name": "python3"
  },
  "language_info": {
   "codemirror_mode": {
    "name": "ipython",
    "version": 3
   },
   "file_extension": ".py",
   "mimetype": "text/x-python",
   "name": "python",
   "nbconvert_exporter": "python",
   "pygments_lexer": "ipython3",
   "version": "3.6.2"
  }
 },
 "nbformat": 4,
 "nbformat_minor": 2
}

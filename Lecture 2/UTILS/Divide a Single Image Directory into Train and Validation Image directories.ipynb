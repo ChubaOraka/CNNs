{
 "cells": [
  {
   "cell_type": "code",
   "execution_count": null,
   "metadata": {
    "collapsed": true
   },
   "outputs": [],
   "source": [
    "# Utility Program \n",
    "# Takes images from a subdirectory and  splits it up into a user defined ratio for \n",
    "#training and validation into different subdirectories.\n"
   ]
  },
  {
   "cell_type": "code",
   "execution_count": null,
   "metadata": {},
   "outputs": [],
   "source": [
    "import numpy as np \n",
    "import scipy \n",
    "import h5py \n",
    "import os \n",
    "import shutil\n",
    "import fnmatch\n",
    "import matplotlib.pyplot as plt \n",
    "%matplotlib inline\n",
    "import   tensorflow as tf\n",
    "from numpy.random import seed\n",
    "from shutil import copyfile\n",
    " "
   ]
  },
  {
   "cell_type": "code",
   "execution_count": null,
   "metadata": {
    "collapsed": true
   },
   "outputs": [],
   "source": [
    "inputPath = \"C:/data/CUB_200_2011/images\"\n",
    "outputPath=\"C:/data/CUB_200_2011/validation/\"\n",
    "PERCENT = 0.2"
   ]
  },
  {
   "cell_type": "code",
   "execution_count": null,
   "metadata": {
    "scrolled": false
   },
   "outputs": [],
   "source": [
    "breedDirectory = os.listdir(inputPath)\n",
    "for file in breedDirectory:\n",
    "    print(outputPath+file + \"  \" + str(len(file)))  \n",
    "    if not os.path.exists(outputPath+file):\n",
    "        os.makedirs(outputPath+file) \n",
    "\n",
    "for file in breedDirectory:  \n",
    "    \n",
    "    files2Move = int(len(inputPath+\"/\"+file)*PERCENT)\n",
    "    picDirectory =  os.listdir(inputPath+\"/\"+file)\n",
    "    for picfiles in picDirectory :\n",
    "        files2Move = files2Move-1\n",
    "        if (files2Move>=  0):\n",
    "            print(inputPath+\"/\"+file+\"/\"+ picfiles)\n",
    "            shutil.move(inputPath+\"/\"+file+\"/\"+ picfiles, outputPath+file+\"/\"+ picfiles)\n",
    "        \n",
    "       "
   ]
  },
  {
   "cell_type": "code",
   "execution_count": null,
   "metadata": {
    "collapsed": true
   },
   "outputs": [],
   "source": []
  }
 ],
 "metadata": {
  "kernelspec": {
   "display_name": "Python 3",
   "language": "python",
   "name": "python3"
  },
  "language_info": {
   "codemirror_mode": {
    "name": "ipython",
    "version": 3
   },
   "file_extension": ".py",
   "mimetype": "text/x-python",
   "name": "python",
   "nbconvert_exporter": "python",
   "pygments_lexer": "ipython3",
   "version": "3.6.2"
  }
 },
 "nbformat": 4,
 "nbformat_minor": 2
}

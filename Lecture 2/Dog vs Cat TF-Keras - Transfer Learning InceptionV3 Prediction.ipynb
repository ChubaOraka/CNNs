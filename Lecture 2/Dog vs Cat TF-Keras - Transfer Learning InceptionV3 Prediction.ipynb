{
 "cells": [
  {
   "cell_type": "code",
   "execution_count": null,
   "metadata": {},
   "outputs": [],
   "source": [
    "from tensorflow.python.keras.applications.inception_v3 import InceptionV3\n",
    "from tensorflow.python.keras.applications.inception_v3 import preprocess_input\n",
    "from tensorflow.python.keras.applications.inception_v3 import decode_predictions\n",
    "from tensorflow.python.keras.preprocessing import image\n",
    "import numpy as np\n",
    "import matplotlib.pyplot as plt\n",
    "import os"
   ]
  },
  {
   "cell_type": "code",
   "execution_count": null,
   "metadata": {
    "collapsed": true
   },
   "outputs": [],
   "source": [
    "model = InceptionV3(weights='imagenet', include_top=True)"
   ]
  },
  {
   "cell_type": "code",
   "execution_count": null,
   "metadata": {},
   "outputs": [],
   "source": [
    "print(\"model structure: \", model.summary())\n",
    "print(\"model weights: \", model.get_weights())"
   ]
  },
  {
   "cell_type": "code",
   "execution_count": null,
   "metadata": {},
   "outputs": [],
   "source": [
    "# go through all directories\n",
    "dir =\"C:\\\\tmp\\\\images\\\\train\\\\\"\n",
    "for root, dirs, files in os.walk(dir):\n",
    "  \n",
    "    for name in files:\n",
    "       x = os.path.join(root, name)\n",
    "         print(x)\n",
    "         \n",
    " "
   ]
  },
  {
   "cell_type": "code",
   "execution_count": null,
   "metadata": {},
   "outputs": [],
   "source": [
    "WORK_DIRECTORY=\"C:/tmp/\"\n",
    "path = WORK_DIRECTORY+\"images/cat/\"\n",
    "\n",
    "\n",
    "files = os.listdir(path)\n",
    "image_width=299\n",
    "image_height=299\n",
    "\n",
    "\n",
    "\n",
    "\n",
    "\n",
    "for file in files:\n",
    "    filePath=path+file\n",
    "    if (os.path.isdir(filePath)):  \n",
    "        continue\n",
    "   \n",
    "    \n",
    "    test_image = image.load_img(filePath, target_size=(image_width, image_height))\n",
    "    test_image = image.img_to_array(test_image)\n",
    "    test_image = np.expand_dims(test_image, axis=0)\n",
    "    \n",
    "    x = preprocess_input(test_image)\n",
    "    pred= model.predict(x)\n",
    "    \n",
    "    print(filePath)\n",
    "    print(decode_predictions(pred, top = 3))\n",
    "    plt.imshow(image.load_img(filePath))\n",
    "    plt.show() "
   ]
  },
  {
   "cell_type": "code",
   "execution_count": null,
   "metadata": {
    "collapsed": true
   },
   "outputs": [],
   "source": []
  }
 ],
 "metadata": {
  "kernelspec": {
   "display_name": "Python 3",
   "language": "python",
   "name": "python3"
  },
  "language_info": {
   "codemirror_mode": {
    "name": "ipython",
    "version": 3
   },
   "file_extension": ".py",
   "mimetype": "text/x-python",
   "name": "python",
   "nbconvert_exporter": "python",
   "pygments_lexer": "ipython3",
   "version": "3.5.4"
  }
 },
 "nbformat": 4,
 "nbformat_minor": 2
}
